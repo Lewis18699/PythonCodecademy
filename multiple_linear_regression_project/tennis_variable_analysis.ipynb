{
 "cells": [
  {
   "cell_type": "code",
   "execution_count": null,
   "metadata": {},
   "outputs": [],
   "source": [
    "import seaborn\n",
    "import pandas as pd\n",
    "import numpy as np\n",
    "import itertools\n",
    "import matplotlib.pyplot as plt\n",
    "from mpl_toolkits.mplot3d import Axes3D\n",
    "from sklearn.model_selection import train_test_split\n",
    "from sklearn.linear_model import LinearRegression"
   ]
  },
  {
   "cell_type": "code",
   "execution_count": null,
   "metadata": {},
   "outputs": [],
   "source": [
    "# inspect data and check for missing elements\n",
    "data = pd.read_csv('tennis_data.csv')\n",
    "print(data.info())\n",
    "print(data.describe())"
   ]
  },
  {
   "cell_type": "code",
   "execution_count": null,
   "metadata": {},
   "outputs": [],
   "source": [
    "# fit simple regression and output results if test R^2>=0.8\n",
    "def single_regression(feature, response):\n",
    "    lm = LinearRegression()\n",
    "    x_train, x_test, y_train, y_test = train_test_split(data[[feature]], data[[response]], train_size=0.8, test_size=0.2)\n",
    "    lm.fit(x_train, y_train)\n",
    "    y_predict = lm.predict(x_test)\n",
    "    train_score = lm.score(x_train, y_train)\n",
    "    test_score = lm.score(x_test, y_test)\n",
    "\n",
    "    if test_score >= 0.8 and train_score >= 0.8:\n",
    "        print(f\"Training R^2 for {feature} vs {response}: {train_score}\")\n",
    "        print(f\"Test R^2 for {feature} vs {response}: {test_score}\")\n",
    "        plt.scatter(x_train, y_train)\n",
    "        plt.scatter(x_test, y_test)\n",
    "        plt.xlabel(feature)\n",
    "        plt.ylabel(response)\n",
    "        plt.show()\n",
    "\n",
    "# find all significant variables against winnings\n",
    "columns = list(data.columns)[1:]\n",
    "columns.remove(\"Winnings\")\n",
    "for i in range(len(columns)):\n",
    "    feature = columns[i]\n",
    "    single_regression(columns[i], \"Winnings\")"
   ]
  },
  {
   "cell_type": "code",
   "execution_count": null,
   "metadata": {},
   "outputs": [],
   "source": [
    "# fit bivariate regression and output results if test R^2>=0.85\n",
    "# features is a list of variables\n",
    "def multiple_regression(features, response):\n",
    "    lm = LinearRegression()\n",
    "    x_train, x_test, y_train, y_test = train_test_split(data[features], data[[response]], train_size=0.8, test_size=0.2)\n",
    "    lm.fit(x_train, y_train)\n",
    "    y_predict = lm.predict(x_test)\n",
    "    train_score = lm.score(x_train, y_train)\n",
    "    test_score = lm.score(x_test, y_test)\n",
    "    if test_score >= 0.85 and train_score >= 0.85:\n",
    "        print(f\"Training R^2 for {features} vs {response}: {train_score}\")\n",
    "        print(f\"Test R^2 for {features} vs {response}: {test_score}\")\n",
    "        fig = plt.figure()\n",
    "        ax = fig.add_subplot(projection='3d')\n",
    "        ax.scatter(np.array(x_train.iloc[:,0]).reshape(-1, 1), np.array(x_train.iloc[:,1]).reshape(-1, 1), y_train)\n",
    "        ax.scatter(np.array(x_test.iloc[:,0]).reshape(-1, 1), np.array(x_test.iloc[:,1]).reshape(-1, 1), y_test)\n",
    "        ax.set_xlabel(features[0])\n",
    "        ax.set_ylabel(features[1])\n",
    "        ax.set_zlabel(\"Winnings\")\n",
    "        plt.show()\n",
    "\n",
    "# find all significant pairs of variables against winnings\n",
    "columns = list(data.columns)[1:]\n",
    "columns.remove(\"Winnings\")\n",
    "#finding all combinations of 2 variables and removing duplicates\n",
    "pairs_features = list(itertools.combinations(columns, r=2))\n",
    "for i in range(len(pairs_features)):\n",
    "    multiple_regression(list(pairs_features[i]), \"Winnings\")\n"
   ]
  }
 ],
 "metadata": {
  "kernelspec": {
   "display_name": "Python 3.10.5 64-bit",
   "language": "python",
   "name": "python3"
  },
  "language_info": {
   "codemirror_mode": {
    "name": "ipython",
    "version": 3
   },
   "file_extension": ".py",
   "mimetype": "text/x-python",
   "name": "python",
   "nbconvert_exporter": "python",
   "pygments_lexer": "ipython3",
   "version": "3.10.5"
  },
  "orig_nbformat": 4,
  "vscode": {
   "interpreter": {
    "hash": "5a7c78103d47abc3bc4b09a4c7d691c5925b8fb544f72ed67f27a32bc9328034"
   }
  }
 },
 "nbformat": 4,
 "nbformat_minor": 2
}
