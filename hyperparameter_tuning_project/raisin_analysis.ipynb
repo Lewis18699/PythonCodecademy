{
 "cells": [
  {
   "cell_type": "markdown",
   "metadata": {},
   "source": [
    "ML model fitting with various hyperparameter tuning methods\n",
    "\n",
    "Data taken from https://archive.ics.uci.edu/ml/datasets/Raisin+Dataset"
   ]
  },
  {
   "cell_type": "code",
   "execution_count": 27,
   "metadata": {},
   "outputs": [],
   "source": [
    "# import packages needed\n",
    "import pandas as pd\n",
    "from sklearn.preprocessing import MinMaxScaler\n",
    "from sklearn.model_selection import train_test_split\n",
    "from sklearn.svm import SVC\n",
    "from sklearn.model_selection import GridSearchCV\n",
    "from skopt import BayesSearchCV\n",
    "from skopt.space import Categorical, Real\n",
    "from tpot import TPOTClassifier"
   ]
  },
  {
   "cell_type": "code",
   "execution_count": 28,
   "metadata": {},
   "outputs": [
    {
     "name": "stdout",
     "output_type": "stream",
     "text": [
      "    Area  MajorAxisLength  MinorAxisLength  Eccentricity  ConvexArea  \\\n",
      "0  87524       442.246011       253.291155      0.819738       90546   \n",
      "1  75166       406.690687       243.032436      0.801805       78789   \n",
      "2  90856       442.267048       266.328318      0.798354       93717   \n",
      "3  45928       286.540559       208.760042      0.684989       47336   \n",
      "4  79408       352.190770       290.827533      0.564011       81463   \n",
      "\n",
      "     Extent  Perimeter    Class  \n",
      "0  0.758651   1184.040  Kecimen  \n",
      "1  0.684130   1121.786  Kecimen  \n",
      "2  0.637613   1208.575  Kecimen  \n",
      "3  0.699599    844.162  Kecimen  \n",
      "4  0.792772   1073.251  Kecimen  \n"
     ]
    }
   ],
   "source": [
    "# load and inspect data\n",
    "data = pd.read_excel('raisin_dataset.xlsx')\n",
    "print(data.head())\n",
    "\n",
    "# set up input and output (Kecimen=0, Besni=1) variables, and training/test data\n",
    "features = data.drop('Class', axis = 1)\n",
    "y = data['Class'].map({'Kecimen':0, 'Besni':1})\n",
    "mm_scaler = MinMaxScaler()\n",
    "X = mm_scaler.fit_transform(features)\n",
    "X_train, X_test, y_train, y_test = train_test_split(X, y, test_size = 0.3, random_state = 99)"
   ]
  },
  {
   "cell_type": "code",
   "execution_count": 29,
   "metadata": {},
   "outputs": [
    {
     "name": "stdout",
     "output_type": "stream",
     "text": [
      "SVC(C=1, kernel='linear')\n",
      "            Score                    \n",
      "C             1         10        100\n",
      "kernel                               \n",
      "linear   0.869841  0.869841  0.866667\n",
      "rbf      0.869841  0.865079  0.869841\n",
      "sigmoid  0.311111  0.277778  0.273016\n",
      "Test score: 0.8555555555555555\n"
     ]
    }
   ],
   "source": [
    "# create support vector machine classifier model and grid search for hyperparameters\n",
    "svm = SVC()\n",
    "parameters = {'kernel': ['linear', 'rbf', 'sigmoid'], 'C': [1, 10, 100]}\n",
    "grid = GridSearchCV(svm, parameters)\n",
    "grid.fit(X_train, y_train)\n",
    "print(grid.best_estimator_)\n",
    "\n",
    "# print grid of search results \n",
    "results = pd.concat([pd.DataFrame(grid.cv_results_['params']), pd.DataFrame(grid.cv_results_['mean_test_score'], columns=['Score'])], axis=1)\n",
    "cv_table = results.pivot(index='kernel', columns='C')\n",
    "print(cv_table)\n",
    "\n",
    "# performance score on test data\n",
    "print(f\"SVM test score: {grid.score(X_test, y_test)}\")"
   ]
  },
  {
   "cell_type": "code",
   "execution_count": 31,
   "metadata": {},
   "outputs": [
    {
     "name": "stdout",
     "output_type": "stream",
     "text": [
      "SVC(C=2.34797934003766)\n",
      "Bayes test score: 0.8629629629629629\n",
      "TPOT test score: 0.8777777777777778\n"
     ]
    },
    {
     "name": "stderr",
     "output_type": "stream",
     "text": [
      "c:\\Users\\lslew\\AppData\\Local\\Programs\\Python\\Python310\\lib\\site-packages\\sklearn\\metrics\\_scorer.py:765: FutureWarning: sklearn.metrics.SCORERS is deprecated and will be removed in v1.3. Please use sklearn.metrics.get_scorer_names to get a list of available scorers and sklearn.metrics.get_metric to get scorer.\n",
      "  warnings.warn(\n"
     ]
    }
   ],
   "source": [
    "# use Bayesian optimization to tune hyperparameters\n",
    "search_spaces = {'kernel': Categorical(['linear', 'rbf', 'sigmoid']), 'C': Real(1, 100, prior='uniform')}\n",
    "bayes = BayesSearchCV(svm, search_spaces, n_iter = 10)\n",
    "bayes.fit(X_train, y_train)\n",
    "print(bayes.best_estimator_)\n",
    "print(f\"Bayes test score: {bayes.score(X_test, y_test)}\")\n",
    "\n",
    "# use tree-based pipeline optimization tool\n",
    "tpot = TPOTClassifier(generations = 2, population_size = 20)\n",
    "tpot.fit(X_train, y_train)\n",
    "print(f\"TPOT test score: {tpot.score(X_test, y_test)}\")\n",
    "tpot.export('tpot_pipeline.py')"
   ]
  }
 ],
 "metadata": {
  "kernelspec": {
   "display_name": "Python 3.10.5 64-bit",
   "language": "python",
   "name": "python3"
  },
  "language_info": {
   "codemirror_mode": {
    "name": "ipython",
    "version": 3
   },
   "file_extension": ".py",
   "mimetype": "text/x-python",
   "name": "python",
   "nbconvert_exporter": "python",
   "pygments_lexer": "ipython3",
   "version": "3.10.5"
  },
  "orig_nbformat": 4,
  "vscode": {
   "interpreter": {
    "hash": "5a7c78103d47abc3bc4b09a4c7d691c5925b8fb544f72ed67f27a32bc9328034"
   }
  }
 },
 "nbformat": 4,
 "nbformat_minor": 2
}
